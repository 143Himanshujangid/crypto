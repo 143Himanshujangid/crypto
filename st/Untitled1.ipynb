{
 "cells": [
  {
   "cell_type": "code",
   "execution_count": 1,
   "id": "df1027f4-5f62-4ba6-8ec2-24267acad016",
   "metadata": {},
   "outputs": [
    {
     "name": "stdout",
     "output_type": "stream",
     "text": [
      "requirements.txt file successfully created!\n"
     ]
    }
   ],
   "source": [
    "# Script to generate requirements.txt\n",
    "import pkg_resources\n",
    "\n",
    "with open(\"requirements.txt\", \"w\") as file:\n",
    "    for package in pkg_resources.working_set:\n",
    "        file.write(f\"{package.project_name}=={package.version}\\n\")\n",
    "\n",
    "print(\"requirements.txt file successfully created!\")\n"
   ]
  },
  {
   "cell_type": "code",
   "execution_count": null,
   "id": "d3916090-c666-40c9-823d-d8cf47154928",
   "metadata": {},
   "outputs": [],
   "source": []
  }
 ],
 "metadata": {
  "kernelspec": {
   "display_name": "Python 3 (ipykernel)",
   "language": "python",
   "name": "python3"
  },
  "language_info": {
   "codemirror_mode": {
    "name": "ipython",
    "version": 3
   },
   "file_extension": ".py",
   "mimetype": "text/x-python",
   "name": "python",
   "nbconvert_exporter": "python",
   "pygments_lexer": "ipython3",
   "version": "3.12.4"
  }
 },
 "nbformat": 4,
 "nbformat_minor": 5
}
